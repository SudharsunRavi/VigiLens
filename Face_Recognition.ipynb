{
  "nbformat": 4,
  "nbformat_minor": 0,
  "metadata": {
    "colab": {
      "provenance": [],
      "authorship_tag": "ABX9TyOi72nOw3xn7aK9yQKfgbYs",
      "include_colab_link": true
    },
    "kernelspec": {
      "name": "python3",
      "display_name": "Python 3"
    },
    "language_info": {
      "name": "python"
    }
  },
  "cells": [
    {
      "cell_type": "markdown",
      "metadata": {
        "id": "view-in-github",
        "colab_type": "text"
      },
      "source": [
        "<a href=\"https://colab.research.google.com/github/SudharsunRavi/VigiLens/blob/main/Face_Recognition.ipynb\" target=\"_parent\"><img src=\"https://colab.research.google.com/assets/colab-badge.svg\" alt=\"Open In Colab\"/></a>"
      ]
    },
    {
      "cell_type": "code",
      "execution_count": 1,
      "metadata": {
        "colab": {
          "base_uri": "https://localhost:8080/"
        },
        "id": "U58rMAWpeCpw",
        "outputId": "cd265eff-c08b-4836-dd80-bba9e0136323"
      },
      "outputs": [
        {
          "output_type": "stream",
          "name": "stdout",
          "text": [
            "Requirement already satisfied: mediapipe in /usr/local/lib/python3.12/dist-packages (0.10.21)\n",
            "Requirement already satisfied: opencv-python in /usr/local/lib/python3.12/dist-packages (4.11.0.86)\n",
            "Requirement already satisfied: deepface in /usr/local/lib/python3.12/dist-packages (0.0.95)\n",
            "Requirement already satisfied: absl-py in /usr/local/lib/python3.12/dist-packages (from mediapipe) (1.4.0)\n",
            "Requirement already satisfied: attrs>=19.1.0 in /usr/local/lib/python3.12/dist-packages (from mediapipe) (25.3.0)\n",
            "Requirement already satisfied: flatbuffers>=2.0 in /usr/local/lib/python3.12/dist-packages (from mediapipe) (25.2.10)\n",
            "Requirement already satisfied: jax in /usr/local/lib/python3.12/dist-packages (from mediapipe) (0.5.3)\n",
            "Requirement already satisfied: jaxlib in /usr/local/lib/python3.12/dist-packages (from mediapipe) (0.5.3)\n",
            "Requirement already satisfied: matplotlib in /usr/local/lib/python3.12/dist-packages (from mediapipe) (3.10.0)\n",
            "Requirement already satisfied: numpy<2 in /usr/local/lib/python3.12/dist-packages (from mediapipe) (1.26.4)\n",
            "Requirement already satisfied: opencv-contrib-python in /usr/local/lib/python3.12/dist-packages (from mediapipe) (4.11.0.86)\n",
            "Requirement already satisfied: protobuf<5,>=4.25.3 in /usr/local/lib/python3.12/dist-packages (from mediapipe) (4.25.8)\n",
            "Requirement already satisfied: sounddevice>=0.4.4 in /usr/local/lib/python3.12/dist-packages (from mediapipe) (0.5.2)\n",
            "Requirement already satisfied: sentencepiece in /usr/local/lib/python3.12/dist-packages (from mediapipe) (0.2.1)\n",
            "Requirement already satisfied: requests>=2.27.1 in /usr/local/lib/python3.12/dist-packages (from deepface) (2.32.4)\n",
            "Requirement already satisfied: pandas>=0.23.4 in /usr/local/lib/python3.12/dist-packages (from deepface) (2.2.2)\n",
            "Requirement already satisfied: gdown>=3.10.1 in /usr/local/lib/python3.12/dist-packages (from deepface) (5.2.0)\n",
            "Requirement already satisfied: tqdm>=4.30.0 in /usr/local/lib/python3.12/dist-packages (from deepface) (4.67.1)\n",
            "Requirement already satisfied: Pillow>=5.2.0 in /usr/local/lib/python3.12/dist-packages (from deepface) (11.3.0)\n",
            "Requirement already satisfied: tensorflow>=1.9.0 in /usr/local/lib/python3.12/dist-packages (from deepface) (2.19.0)\n",
            "Requirement already satisfied: keras>=2.2.0 in /usr/local/lib/python3.12/dist-packages (from deepface) (3.10.0)\n",
            "Requirement already satisfied: Flask>=1.1.2 in /usr/local/lib/python3.12/dist-packages (from deepface) (3.1.2)\n",
            "Requirement already satisfied: flask-cors>=4.0.1 in /usr/local/lib/python3.12/dist-packages (from deepface) (6.0.1)\n",
            "Requirement already satisfied: mtcnn>=0.1.0 in /usr/local/lib/python3.12/dist-packages (from deepface) (1.0.0)\n",
            "Requirement already satisfied: retina-face>=0.0.14 in /usr/local/lib/python3.12/dist-packages (from deepface) (0.0.17)\n",
            "Requirement already satisfied: fire>=0.4.0 in /usr/local/lib/python3.12/dist-packages (from deepface) (0.7.1)\n",
            "Requirement already satisfied: gunicorn>=20.1.0 in /usr/local/lib/python3.12/dist-packages (from deepface) (23.0.0)\n",
            "Requirement already satisfied: termcolor in /usr/local/lib/python3.12/dist-packages (from fire>=0.4.0->deepface) (3.1.0)\n",
            "Requirement already satisfied: blinker>=1.9.0 in /usr/local/lib/python3.12/dist-packages (from Flask>=1.1.2->deepface) (1.9.0)\n",
            "Requirement already satisfied: click>=8.1.3 in /usr/local/lib/python3.12/dist-packages (from Flask>=1.1.2->deepface) (8.2.1)\n",
            "Requirement already satisfied: itsdangerous>=2.2.0 in /usr/local/lib/python3.12/dist-packages (from Flask>=1.1.2->deepface) (2.2.0)\n",
            "Requirement already satisfied: jinja2>=3.1.2 in /usr/local/lib/python3.12/dist-packages (from Flask>=1.1.2->deepface) (3.1.6)\n",
            "Requirement already satisfied: markupsafe>=2.1.1 in /usr/local/lib/python3.12/dist-packages (from Flask>=1.1.2->deepface) (3.0.2)\n",
            "Requirement already satisfied: werkzeug>=3.1.0 in /usr/local/lib/python3.12/dist-packages (from Flask>=1.1.2->deepface) (3.1.3)\n",
            "Requirement already satisfied: beautifulsoup4 in /usr/local/lib/python3.12/dist-packages (from gdown>=3.10.1->deepface) (4.13.5)\n",
            "Requirement already satisfied: filelock in /usr/local/lib/python3.12/dist-packages (from gdown>=3.10.1->deepface) (3.19.1)\n",
            "Requirement already satisfied: packaging in /usr/local/lib/python3.12/dist-packages (from gunicorn>=20.1.0->deepface) (25.0)\n",
            "Requirement already satisfied: rich in /usr/local/lib/python3.12/dist-packages (from keras>=2.2.0->deepface) (13.9.4)\n",
            "Requirement already satisfied: namex in /usr/local/lib/python3.12/dist-packages (from keras>=2.2.0->deepface) (0.1.0)\n",
            "Requirement already satisfied: h5py in /usr/local/lib/python3.12/dist-packages (from keras>=2.2.0->deepface) (3.14.0)\n",
            "Requirement already satisfied: optree in /usr/local/lib/python3.12/dist-packages (from keras>=2.2.0->deepface) (0.17.0)\n",
            "Requirement already satisfied: ml-dtypes in /usr/local/lib/python3.12/dist-packages (from keras>=2.2.0->deepface) (0.5.3)\n",
            "Requirement already satisfied: joblib>=1.4.2 in /usr/local/lib/python3.12/dist-packages (from mtcnn>=0.1.0->deepface) (1.5.2)\n",
            "Requirement already satisfied: lz4>=4.3.3 in /usr/local/lib/python3.12/dist-packages (from mtcnn>=0.1.0->deepface) (4.4.4)\n",
            "Requirement already satisfied: python-dateutil>=2.8.2 in /usr/local/lib/python3.12/dist-packages (from pandas>=0.23.4->deepface) (2.9.0.post0)\n",
            "Requirement already satisfied: pytz>=2020.1 in /usr/local/lib/python3.12/dist-packages (from pandas>=0.23.4->deepface) (2025.2)\n",
            "Requirement already satisfied: tzdata>=2022.7 in /usr/local/lib/python3.12/dist-packages (from pandas>=0.23.4->deepface) (2025.2)\n",
            "Requirement already satisfied: charset_normalizer<4,>=2 in /usr/local/lib/python3.12/dist-packages (from requests>=2.27.1->deepface) (3.4.3)\n",
            "Requirement already satisfied: idna<4,>=2.5 in /usr/local/lib/python3.12/dist-packages (from requests>=2.27.1->deepface) (3.10)\n",
            "Requirement already satisfied: urllib3<3,>=1.21.1 in /usr/local/lib/python3.12/dist-packages (from requests>=2.27.1->deepface) (2.5.0)\n",
            "Requirement already satisfied: certifi>=2017.4.17 in /usr/local/lib/python3.12/dist-packages (from requests>=2.27.1->deepface) (2025.8.3)\n",
            "Requirement already satisfied: CFFI>=1.0 in /usr/local/lib/python3.12/dist-packages (from sounddevice>=0.4.4->mediapipe) (2.0.0)\n",
            "Requirement already satisfied: astunparse>=1.6.0 in /usr/local/lib/python3.12/dist-packages (from tensorflow>=1.9.0->deepface) (1.6.3)\n",
            "Requirement already satisfied: gast!=0.5.0,!=0.5.1,!=0.5.2,>=0.2.1 in /usr/local/lib/python3.12/dist-packages (from tensorflow>=1.9.0->deepface) (0.6.0)\n",
            "Requirement already satisfied: google-pasta>=0.1.1 in /usr/local/lib/python3.12/dist-packages (from tensorflow>=1.9.0->deepface) (0.2.0)\n",
            "Requirement already satisfied: libclang>=13.0.0 in /usr/local/lib/python3.12/dist-packages (from tensorflow>=1.9.0->deepface) (18.1.1)\n",
            "Requirement already satisfied: opt-einsum>=2.3.2 in /usr/local/lib/python3.12/dist-packages (from tensorflow>=1.9.0->deepface) (3.4.0)\n",
            "Requirement already satisfied: setuptools in /usr/local/lib/python3.12/dist-packages (from tensorflow>=1.9.0->deepface) (75.2.0)\n",
            "Requirement already satisfied: six>=1.12.0 in /usr/local/lib/python3.12/dist-packages (from tensorflow>=1.9.0->deepface) (1.17.0)\n",
            "Requirement already satisfied: typing-extensions>=3.6.6 in /usr/local/lib/python3.12/dist-packages (from tensorflow>=1.9.0->deepface) (4.15.0)\n",
            "Requirement already satisfied: wrapt>=1.11.0 in /usr/local/lib/python3.12/dist-packages (from tensorflow>=1.9.0->deepface) (1.17.3)\n",
            "Requirement already satisfied: grpcio<2.0,>=1.24.3 in /usr/local/lib/python3.12/dist-packages (from tensorflow>=1.9.0->deepface) (1.74.0)\n",
            "Requirement already satisfied: tensorboard~=2.19.0 in /usr/local/lib/python3.12/dist-packages (from tensorflow>=1.9.0->deepface) (2.19.0)\n",
            "Requirement already satisfied: scipy>=1.11.1 in /usr/local/lib/python3.12/dist-packages (from jax->mediapipe) (1.16.1)\n",
            "Requirement already satisfied: contourpy>=1.0.1 in /usr/local/lib/python3.12/dist-packages (from matplotlib->mediapipe) (1.3.3)\n",
            "Requirement already satisfied: cycler>=0.10 in /usr/local/lib/python3.12/dist-packages (from matplotlib->mediapipe) (0.12.1)\n",
            "Requirement already satisfied: fonttools>=4.22.0 in /usr/local/lib/python3.12/dist-packages (from matplotlib->mediapipe) (4.59.2)\n",
            "Requirement already satisfied: kiwisolver>=1.3.1 in /usr/local/lib/python3.12/dist-packages (from matplotlib->mediapipe) (1.4.9)\n",
            "Requirement already satisfied: pyparsing>=2.3.1 in /usr/local/lib/python3.12/dist-packages (from matplotlib->mediapipe) (3.2.3)\n",
            "Requirement already satisfied: wheel<1.0,>=0.23.0 in /usr/local/lib/python3.12/dist-packages (from astunparse>=1.6.0->tensorflow>=1.9.0->deepface) (0.45.1)\n",
            "Requirement already satisfied: pycparser in /usr/local/lib/python3.12/dist-packages (from CFFI>=1.0->sounddevice>=0.4.4->mediapipe) (2.23)\n",
            "Requirement already satisfied: markdown>=2.6.8 in /usr/local/lib/python3.12/dist-packages (from tensorboard~=2.19.0->tensorflow>=1.9.0->deepface) (3.9)\n",
            "Requirement already satisfied: tensorboard-data-server<0.8.0,>=0.7.0 in /usr/local/lib/python3.12/dist-packages (from tensorboard~=2.19.0->tensorflow>=1.9.0->deepface) (0.7.2)\n",
            "Requirement already satisfied: soupsieve>1.2 in /usr/local/lib/python3.12/dist-packages (from beautifulsoup4->gdown>=3.10.1->deepface) (2.8)\n",
            "Requirement already satisfied: PySocks!=1.5.7,>=1.5.6 in /usr/local/lib/python3.12/dist-packages (from requests[socks]->gdown>=3.10.1->deepface) (1.7.1)\n",
            "Requirement already satisfied: markdown-it-py>=2.2.0 in /usr/local/lib/python3.12/dist-packages (from rich->keras>=2.2.0->deepface) (4.0.0)\n",
            "Requirement already satisfied: pygments<3.0.0,>=2.13.0 in /usr/local/lib/python3.12/dist-packages (from rich->keras>=2.2.0->deepface) (2.19.2)\n",
            "Requirement already satisfied: mdurl~=0.1 in /usr/local/lib/python3.12/dist-packages (from markdown-it-py>=2.2.0->rich->keras>=2.2.0->deepface) (0.1.2)\n"
          ]
        }
      ],
      "source": [
        "!pip install mediapipe opencv-python deepface"
      ]
    },
    {
      "cell_type": "code",
      "source": [
        "# Cell 2: Import after runtime restart\n",
        "import cv2\n",
        "import mediapipe as mp\n",
        "import os\n",
        "import numpy as np\n",
        "from deepface import DeepFace"
      ],
      "metadata": {
        "colab": {
          "base_uri": "https://localhost:8080/"
        },
        "id": "abv3Nl4xebKT",
        "outputId": "4995c204-32e6-4a43-f2e2-e3544ceca207"
      },
      "execution_count": 2,
      "outputs": [
        {
          "output_type": "stream",
          "name": "stdout",
          "text": [
            "25-09-17 07:00:56 - Directory /root/.deepface has been created\n",
            "25-09-17 07:00:56 - Directory /root/.deepface/weights has been created\n"
          ]
        }
      ]
    },
    {
      "cell_type": "code",
      "source": [
        "from google.colab import drive\n",
        "drive.mount('/content/drive')"
      ],
      "metadata": {
        "colab": {
          "base_uri": "https://localhost:8080/"
        },
        "id": "D1L4_8PWehX-",
        "outputId": "54b7448c-83df-4f22-c1b8-c613968bf090"
      },
      "execution_count": 3,
      "outputs": [
        {
          "output_type": "stream",
          "name": "stdout",
          "text": [
            "Mounted at /content/drive\n"
          ]
        }
      ]
    },
    {
      "cell_type": "code",
      "source": [
        "mp_face_detection = mp.solutions.face_detection\n",
        "\n",
        "def detect_faces(image):\n",
        "    \"\"\"Return bounding boxes of faces using MediaPipe\"\"\"\n",
        "    with mp_face_detection.FaceDetection(model_selection=1, min_detection_confidence=0.5) as detector:\n",
        "        results = detector.process(cv2.cvtColor(image, cv2.COLOR_BGR2RGB))\n",
        "        boxes = []\n",
        "        if results.detections:\n",
        "            for det in results.detections:\n",
        "                bboxC = det.location_data.relative_bounding_box\n",
        "                ih, iw, _ = image.shape\n",
        "                x, y, w, h = int(bboxC.xmin * iw), int(bboxC.ymin * ih), int(bboxC.width * iw), int(bboxC.height * ih)\n",
        "                boxes.append((x, y, w, h))\n",
        "        return boxes\n",
        "\n",
        "def get_face_embedding(image, bbox):\n",
        "    \"\"\"Crop face and get embedding using DeepFace\"\"\"\n",
        "    x, y, w, h = bbox\n",
        "    face_img = image[y:y+h, x:x+w]\n",
        "    if face_img.size == 0:\n",
        "        return None\n",
        "    embedding = DeepFace.represent(face_img, model_name=\"Facenet\", enforce_detection=False)[0][\"embedding\"]\n",
        "    return np.array(embedding)"
      ],
      "metadata": {
        "id": "UxU2B7gPe3pW"
      },
      "execution_count": 4,
      "outputs": []
    },
    {
      "cell_type": "code",
      "source": [
        "known_faces_dir = \"/content/drive/MyDrive/Faces\"\n",
        "\n",
        "known_face_embeddings = []\n",
        "known_face_names = []\n",
        "\n",
        "for filename in os.listdir(known_faces_dir):\n",
        "    if filename.lower().endswith(('.png', '.jpg', '.jpeg')):\n",
        "        path = os.path.join(known_faces_dir, filename)\n",
        "        name = os.path.splitext(filename)[0]\n",
        "\n",
        "        image = cv2.imread(path)\n",
        "        # Detect faces\n",
        "        boxes = detect_faces(image)\n",
        "        if len(boxes) == 0:\n",
        "            print(f\"[WARNING] No face detected in {filename}\")\n",
        "            continue\n",
        "\n",
        "        # Use first detected face\n",
        "        embedding = get_face_embedding(image, boxes[0])\n",
        "        if embedding is not None:\n",
        "            known_face_embeddings.append(embedding)\n",
        "            known_face_names.append(name)\n",
        "            print(f\"[INFO] Encoded {name}\")\n",
        "        else:\n",
        "            print(f\"[WARNING] Could not generate embedding for {filename}\")\n",
        "\n",
        "# Save embeddings for later\n",
        "np.save(\"/content/drive/MyDrive/Faces/embeddings.npy\", np.array(known_face_embeddings))\n",
        "np.save(\"/content/drive/MyDrive/Faces/names.npy\", np.array(known_face_names))\n",
        "print(\"[INFO] Saved embeddings and names\")\n"
      ],
      "metadata": {
        "colab": {
          "base_uri": "https://localhost:8080/"
        },
        "id": "_zFKwqIme5UL",
        "outputId": "1f8841d6-c861-43b8-d013-72ec171b0c1d"
      },
      "execution_count": 5,
      "outputs": [
        {
          "output_type": "stream",
          "name": "stdout",
          "text": [
            "25-09-17 07:04:18 - 🔗 facenet_weights.h5 will be downloaded from https://github.com/serengil/deepface_models/releases/download/v1.0/facenet_weights.h5 to /root/.deepface/weights/facenet_weights.h5...\n"
          ]
        },
        {
          "output_type": "stream",
          "name": "stderr",
          "text": [
            "Downloading...\n",
            "From: https://github.com/serengil/deepface_models/releases/download/v1.0/facenet_weights.h5\n",
            "To: /root/.deepface/weights/facenet_weights.h5\n",
            "100%|██████████| 92.2M/92.2M [00:00<00:00, 115MB/s]\n"
          ]
        },
        {
          "output_type": "stream",
          "name": "stdout",
          "text": [
            "[INFO] Encoded Jai\n",
            "[INFO] Encoded Mariraj\n",
            "[INFO] Encoded Livingston\n",
            "[INFO] Encoded Divya P\n",
            "[INFO] Encoded Gowri\n",
            "[INFO] Encoded Sivakumar\n",
            "[INFO] Encoded Cyril\n",
            "[INFO] Encoded Kannan\n",
            "[INFO] Encoded Jamuna\n",
            "[INFO] Encoded Prawin \n",
            "[INFO] Encoded Abinaya\n",
            "[INFO] Encoded Sri Hari\n",
            "[INFO] Encoded Anusha V\n",
            "[INFO] Encoded Ebineshar\n",
            "[INFO] Encoded Thamizhmaran\n",
            "[INFO] Encoded Vijaypandi\n",
            "[INFO] Encoded Chandragrace\n",
            "[INFO] Encoded Kalai\n",
            "[INFO] Encoded vijay\n",
            "[INFO] Encoded Poovarasan\n",
            "[INFO] Encoded Bavadharani\n",
            "[INFO] Encoded Bharath\n",
            "[INFO] Encoded Ranjith\n",
            "[INFO] Encoded Ramya\n",
            "[INFO] Encoded Mahendran\n",
            "[INFO] Encoded Iyappan\n",
            "[INFO] Encoded Venkat\n",
            "[INFO] Encoded Palani\n",
            "[INFO] Encoded Vijay D\n",
            "[INFO] Encoded Vinoth\n",
            "[INFO] Encoded Haja\n",
            "[INFO] Encoded Suresh\n",
            "[INFO] Encoded Deepa\n",
            "[INFO] Encoded Divya Selvarai\n",
            "[INFO] Encoded Mahalakshmi\n",
            "[INFO] Encoded Om Ganesh\n",
            "[INFO] Encoded Alex\n",
            "[INFO] Encoded Deepth\n",
            "[INFO] Encoded Thamotharan\n",
            "[INFO] Encoded Manju\n",
            "[INFO] Encoded Rajalingam\n",
            "[INFO] Encoded Edward\n",
            "[INFO] Encoded Anne\n",
            "[INFO] Encoded Keerthana\n",
            "[INFO] Encoded Pugazhenthi\n",
            "[INFO] Encoded Dhamodharan\n",
            "[INFO] Encoded Vignesh\n",
            "[INFO] Encoded Venkat S\n",
            "[INFO] Encoded Shanmugam\n",
            "[INFO] Encoded Indra\n",
            "[INFO] Encoded Mahadevan\n",
            "[INFO] Encoded Praveen\n",
            "[INFO] Encoded Baskar\n",
            "[INFO] Encoded John\n",
            "[INFO] Encoded Vikash\n",
            "[INFO] Encoded Sudharsun\n",
            "[INFO] Saved embeddings and names\n"
          ]
        }
      ]
    },
    {
      "cell_type": "code",
      "source": [
        "known_face_embeddings = np.load(\"/content/drive/MyDrive/Faces/embeddings.npy\", allow_pickle=True)\n",
        "known_face_names = np.load(\"/content/drive/MyDrive/Faces/names.npy\", allow_pickle=True)\n",
        "print(f\"[INFO] Loaded {len(known_face_names)} embeddings\")\n"
      ],
      "metadata": {
        "colab": {
          "base_uri": "https://localhost:8080/"
        },
        "id": "yBhCwl9sgtpR",
        "outputId": "598d7291-d936-41ec-9583-2c51d0ce449f"
      },
      "execution_count": 6,
      "outputs": [
        {
          "output_type": "stream",
          "name": "stdout",
          "text": [
            "[INFO] Loaded 56 embeddings\n"
          ]
        }
      ]
    },
    {
      "cell_type": "code",
      "source": [
        "input_video_path = \"/content/drive/MyDrive/Faces/Videos/Input/3.mp4\"\n",
        "output_video_path = \"/content/drive/MyDrive/Faces/Videos/Output/3.mp4\"\n",
        "\n",
        "input_movie = cv2.VideoCapture(input_video_path)\n",
        "length = int(input_movie.get(cv2.CAP_PROP_FRAME_COUNT))\n",
        "width  = int(input_movie.get(cv2.CAP_PROP_FRAME_WIDTH))\n",
        "height = int(input_movie.get(cv2.CAP_PROP_FRAME_HEIGHT))\n",
        "fps    = input_movie.get(cv2.CAP_PROP_FPS)\n",
        "\n",
        "fourcc = cv2.VideoWriter_fourcc(*'XVID')\n",
        "output_movie = cv2.VideoWriter(output_video_path, fourcc, fps, (int(width), int(height)))\n",
        "\n",
        "frame_number = 0\n",
        "\n",
        "while True:\n",
        "    ret, frame = input_movie.read()\n",
        "    if not ret:\n",
        "        break\n",
        "    frame_number += 1\n",
        "\n",
        "    boxes = detect_faces(frame)\n",
        "    for bbox in boxes:\n",
        "        embedding = get_face_embedding(frame, bbox)\n",
        "        if embedding is None:\n",
        "            name = \"Unknown\"\n",
        "        else:\n",
        "            # Compare with known embeddings\n",
        "            distances = np.linalg.norm(np.array(known_face_embeddings) - embedding, axis=1)\n",
        "            min_idx = np.argmin(distances)\n",
        "            if distances[min_idx] < 0.6:  # threshold, tweak as needed\n",
        "                name = known_face_names[min_idx]\n",
        "            else:\n",
        "                name = \"Unknown\"\n",
        "\n",
        "        # Draw rectangle + label\n",
        "        x, y, w, h = bbox\n",
        "        cv2.rectangle(frame, (x, y), (x+w, y+h), (0, 0, 255), 2)\n",
        "        cv2.rectangle(frame, (x, y - 25), (x+w, y), (0, 0, 255), cv2.FILLED)\n",
        "        font = cv2.FONT_HERSHEY_DUPLEX\n",
        "        cv2.putText(frame, name, (x + 6, y - 6), font, 0.6, (255, 255, 255), 1)\n",
        "\n",
        "    print(f\"Processing frame {frame_number}/{length}\")\n",
        "    output_movie.write(frame)\n",
        "\n",
        "input_movie.release()\n",
        "output_movie.release()\n",
        "cv2.destroyAllWindows()\n",
        "print(\"[INFO] Video processing complete!\")\n"
      ],
      "metadata": {
        "colab": {
          "base_uri": "https://localhost:8080/"
        },
        "id": "rFwq9wdjgxtk",
        "outputId": "e68a3c27-b758-4096-c700-0cdfd06b98cd"
      },
      "execution_count": 9,
      "outputs": [
        {
          "output_type": "stream",
          "name": "stdout",
          "text": [
            "Processing frame 1/61\n",
            "Processing frame 2/61\n",
            "Processing frame 3/61\n",
            "Processing frame 4/61\n",
            "Processing frame 5/61\n",
            "Processing frame 6/61\n",
            "Processing frame 7/61\n",
            "Processing frame 8/61\n",
            "Processing frame 9/61\n",
            "Processing frame 10/61\n",
            "Processing frame 11/61\n",
            "Processing frame 12/61\n",
            "Processing frame 13/61\n",
            "Processing frame 14/61\n",
            "Processing frame 15/61\n",
            "Processing frame 16/61\n",
            "Processing frame 17/61\n",
            "Processing frame 18/61\n",
            "Processing frame 19/61\n",
            "Processing frame 20/61\n",
            "Processing frame 21/61\n",
            "Processing frame 22/61\n",
            "Processing frame 23/61\n",
            "Processing frame 24/61\n",
            "Processing frame 25/61\n",
            "Processing frame 26/61\n",
            "Processing frame 27/61\n",
            "Processing frame 28/61\n",
            "Processing frame 29/61\n",
            "Processing frame 30/61\n",
            "Processing frame 31/61\n",
            "Processing frame 32/61\n",
            "Processing frame 33/61\n",
            "Processing frame 34/61\n",
            "Processing frame 35/61\n",
            "Processing frame 36/61\n",
            "Processing frame 37/61\n",
            "Processing frame 38/61\n",
            "Processing frame 39/61\n",
            "Processing frame 40/61\n",
            "Processing frame 41/61\n",
            "Processing frame 42/61\n",
            "Processing frame 43/61\n",
            "Processing frame 44/61\n",
            "Processing frame 45/61\n",
            "Processing frame 46/61\n",
            "Processing frame 47/61\n",
            "Processing frame 48/61\n",
            "Processing frame 49/61\n",
            "Processing frame 50/61\n",
            "Processing frame 51/61\n",
            "Processing frame 52/61\n",
            "Processing frame 53/61\n",
            "Processing frame 54/61\n",
            "Processing frame 55/61\n",
            "Processing frame 56/61\n",
            "Processing frame 57/61\n",
            "Processing frame 58/61\n",
            "Processing frame 59/61\n",
            "Processing frame 60/61\n",
            "Processing frame 61/61\n",
            "[INFO] Video processing complete!\n"
          ]
        }
      ]
    }
  ]
}